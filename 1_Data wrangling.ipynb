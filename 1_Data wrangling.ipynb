{
 "cells": [
  {
   "cell_type": "markdown",
   "metadata": {},
   "source": [
    "# Get Citibike trip data"
   ]
  },
  {
   "cell_type": "code",
   "execution_count": 1,
   "metadata": {
    "collapsed": true
   },
   "outputs": [],
   "source": [
    "import os\n",
    "import requests\n",
    "import pandas as pd\n",
    "import numpy as np\n",
    "from tqdm import tqdm\n",
    "%matplotlib inline"
   ]
  },
  {
   "cell_type": "code",
   "execution_count": 2,
   "metadata": {
    "collapsed": true
   },
   "outputs": [],
   "source": [
    "url = \"https://s3.amazonaws.com/tripdata/201801_citibikenyc_tripdata.csv.zip\""
   ]
  },
  {
   "cell_type": "code",
   "execution_count": 3,
   "metadata": {},
   "outputs": [],
   "source": [
    "df = pd.read_csv(url, compression='infer')"
   ]
  },
  {
   "cell_type": "code",
   "execution_count": 4,
   "metadata": {},
   "outputs": [
    {
     "data": {
      "text/html": [
       "<div>\n",
       "<style scoped>\n",
       "    .dataframe tbody tr th:only-of-type {\n",
       "        vertical-align: middle;\n",
       "    }\n",
       "\n",
       "    .dataframe tbody tr th {\n",
       "        vertical-align: top;\n",
       "    }\n",
       "\n",
       "    .dataframe thead th {\n",
       "        text-align: right;\n",
       "    }\n",
       "</style>\n",
       "<table border=\"1\" class=\"dataframe\">\n",
       "  <thead>\n",
       "    <tr style=\"text-align: right;\">\n",
       "      <th></th>\n",
       "      <th>tripduration</th>\n",
       "      <th>starttime</th>\n",
       "      <th>stoptime</th>\n",
       "      <th>start station id</th>\n",
       "      <th>start station name</th>\n",
       "      <th>start station latitude</th>\n",
       "      <th>start station longitude</th>\n",
       "      <th>end station id</th>\n",
       "      <th>end station name</th>\n",
       "      <th>end station latitude</th>\n",
       "      <th>end station longitude</th>\n",
       "      <th>bikeid</th>\n",
       "      <th>name_localizedValue0</th>\n",
       "      <th>usertype</th>\n",
       "      <th>birth year</th>\n",
       "      <th>gender</th>\n",
       "    </tr>\n",
       "  </thead>\n",
       "  <tbody>\n",
       "    <tr>\n",
       "      <th>0</th>\n",
       "      <td>196</td>\n",
       "      <td>2018-01-01 00:01:51</td>\n",
       "      <td>2018-01-01 00:05:07</td>\n",
       "      <td>315</td>\n",
       "      <td>South St &amp; Gouverneur Ln</td>\n",
       "      <td>40.703554</td>\n",
       "      <td>-74.006702</td>\n",
       "      <td>259</td>\n",
       "      <td>South St &amp; Whitehall St</td>\n",
       "      <td>40.701221</td>\n",
       "      <td>-74.012342</td>\n",
       "      <td>18534</td>\n",
       "      <td>Annual Membership</td>\n",
       "      <td>Subscriber</td>\n",
       "      <td>1997.0</td>\n",
       "      <td>1</td>\n",
       "    </tr>\n",
       "    <tr>\n",
       "      <th>1</th>\n",
       "      <td>207</td>\n",
       "      <td>2018-01-01 00:02:44</td>\n",
       "      <td>2018-01-01 00:06:11</td>\n",
       "      <td>3224</td>\n",
       "      <td>W 13 St &amp; Hudson St</td>\n",
       "      <td>40.739974</td>\n",
       "      <td>-74.005139</td>\n",
       "      <td>470</td>\n",
       "      <td>W 20 St &amp; 8 Ave</td>\n",
       "      <td>40.743453</td>\n",
       "      <td>-74.000040</td>\n",
       "      <td>19651</td>\n",
       "      <td>Annual Membership</td>\n",
       "      <td>Subscriber</td>\n",
       "      <td>1978.0</td>\n",
       "      <td>1</td>\n",
       "    </tr>\n",
       "    <tr>\n",
       "      <th>2</th>\n",
       "      <td>613</td>\n",
       "      <td>2018-01-01 00:03:15</td>\n",
       "      <td>2018-01-01 00:13:28</td>\n",
       "      <td>386</td>\n",
       "      <td>Centre St &amp; Worth St</td>\n",
       "      <td>40.714948</td>\n",
       "      <td>-74.002345</td>\n",
       "      <td>2008</td>\n",
       "      <td>Little West St &amp; 1 Pl</td>\n",
       "      <td>40.705693</td>\n",
       "      <td>-74.016777</td>\n",
       "      <td>21678</td>\n",
       "      <td>Annual Membership</td>\n",
       "      <td>Subscriber</td>\n",
       "      <td>1982.0</td>\n",
       "      <td>1</td>\n",
       "    </tr>\n",
       "    <tr>\n",
       "      <th>3</th>\n",
       "      <td>375</td>\n",
       "      <td>2018-01-01 00:06:44</td>\n",
       "      <td>2018-01-01 00:12:59</td>\n",
       "      <td>466</td>\n",
       "      <td>W 25 St &amp; 6 Ave</td>\n",
       "      <td>40.743954</td>\n",
       "      <td>-73.991449</td>\n",
       "      <td>325</td>\n",
       "      <td>E 19 St &amp; 3 Ave</td>\n",
       "      <td>40.736245</td>\n",
       "      <td>-73.984738</td>\n",
       "      <td>29822</td>\n",
       "      <td>Annual Membership</td>\n",
       "      <td>Subscriber</td>\n",
       "      <td>1982.0</td>\n",
       "      <td>1</td>\n",
       "    </tr>\n",
       "    <tr>\n",
       "      <th>4</th>\n",
       "      <td>402</td>\n",
       "      <td>2018-01-01 00:06:57</td>\n",
       "      <td>2018-01-01 00:13:40</td>\n",
       "      <td>438</td>\n",
       "      <td>St Marks Pl &amp; 1 Ave</td>\n",
       "      <td>40.727791</td>\n",
       "      <td>-73.985649</td>\n",
       "      <td>380</td>\n",
       "      <td>W 4 St &amp; 7 Ave S</td>\n",
       "      <td>40.734011</td>\n",
       "      <td>-74.002939</td>\n",
       "      <td>30722</td>\n",
       "      <td>Annual Membership</td>\n",
       "      <td>Subscriber</td>\n",
       "      <td>1989.0</td>\n",
       "      <td>1</td>\n",
       "    </tr>\n",
       "  </tbody>\n",
       "</table>\n",
       "</div>"
      ],
      "text/plain": [
       "   tripduration            starttime             stoptime  start station id  \\\n",
       "0           196  2018-01-01 00:01:51  2018-01-01 00:05:07               315   \n",
       "1           207  2018-01-01 00:02:44  2018-01-01 00:06:11              3224   \n",
       "2           613  2018-01-01 00:03:15  2018-01-01 00:13:28               386   \n",
       "3           375  2018-01-01 00:06:44  2018-01-01 00:12:59               466   \n",
       "4           402  2018-01-01 00:06:57  2018-01-01 00:13:40               438   \n",
       "\n",
       "         start station name  start station latitude  start station longitude  \\\n",
       "0  South St & Gouverneur Ln               40.703554               -74.006702   \n",
       "1       W 13 St & Hudson St               40.739974               -74.005139   \n",
       "2      Centre St & Worth St               40.714948               -74.002345   \n",
       "3           W 25 St & 6 Ave               40.743954               -73.991449   \n",
       "4       St Marks Pl & 1 Ave               40.727791               -73.985649   \n",
       "\n",
       "   end station id         end station name  end station latitude  \\\n",
       "0             259  South St & Whitehall St             40.701221   \n",
       "1             470          W 20 St & 8 Ave             40.743453   \n",
       "2            2008    Little West St & 1 Pl             40.705693   \n",
       "3             325          E 19 St & 3 Ave             40.736245   \n",
       "4             380         W 4 St & 7 Ave S             40.734011   \n",
       "\n",
       "   end station longitude  bikeid name_localizedValue0    usertype  birth year  \\\n",
       "0             -74.012342   18534    Annual Membership  Subscriber      1997.0   \n",
       "1             -74.000040   19651    Annual Membership  Subscriber      1978.0   \n",
       "2             -74.016777   21678    Annual Membership  Subscriber      1982.0   \n",
       "3             -73.984738   29822    Annual Membership  Subscriber      1982.0   \n",
       "4             -74.002939   30722    Annual Membership  Subscriber      1989.0   \n",
       "\n",
       "   gender  \n",
       "0       1  \n",
       "1       1  \n",
       "2       1  \n",
       "3       1  \n",
       "4       1  "
      ]
     },
     "execution_count": 4,
     "metadata": {},
     "output_type": "execute_result"
    }
   ],
   "source": [
    "df.head()"
   ]
  },
  {
   "cell_type": "code",
   "execution_count": 5,
   "metadata": {},
   "outputs": [
    {
     "data": {
      "text/html": [
       "<div>\n",
       "<style scoped>\n",
       "    .dataframe tbody tr th:only-of-type {\n",
       "        vertical-align: middle;\n",
       "    }\n",
       "\n",
       "    .dataframe tbody tr th {\n",
       "        vertical-align: top;\n",
       "    }\n",
       "\n",
       "    .dataframe thead th {\n",
       "        text-align: right;\n",
       "    }\n",
       "</style>\n",
       "<table border=\"1\" class=\"dataframe\">\n",
       "  <thead>\n",
       "    <tr style=\"text-align: right;\">\n",
       "      <th></th>\n",
       "      <th>tripduration</th>\n",
       "      <th>starttime</th>\n",
       "      <th>stoptime</th>\n",
       "      <th>start station id</th>\n",
       "      <th>start station name</th>\n",
       "      <th>start station latitude</th>\n",
       "      <th>start station longitude</th>\n",
       "      <th>end station id</th>\n",
       "      <th>end station name</th>\n",
       "      <th>end station latitude</th>\n",
       "      <th>end station longitude</th>\n",
       "      <th>bikeid</th>\n",
       "      <th>name_localizedValue0</th>\n",
       "      <th>usertype</th>\n",
       "      <th>birth year</th>\n",
       "      <th>gender</th>\n",
       "    </tr>\n",
       "  </thead>\n",
       "  <tbody>\n",
       "    <tr>\n",
       "      <th>718985</th>\n",
       "      <td>1134</td>\n",
       "      <td>2018-01-31 23:59:40</td>\n",
       "      <td>2018-02-01 00:18:34</td>\n",
       "      <td>3556</td>\n",
       "      <td>24 St &amp; 41 Ave</td>\n",
       "      <td>40.752709</td>\n",
       "      <td>-73.939740</td>\n",
       "      <td>3532</td>\n",
       "      <td>Ditmars Blvd &amp; 19 St</td>\n",
       "      <td>40.781450</td>\n",
       "      <td>-73.918330</td>\n",
       "      <td>25169</td>\n",
       "      <td>Annual Membership</td>\n",
       "      <td>Subscriber</td>\n",
       "      <td>1990.0</td>\n",
       "      <td>1</td>\n",
       "    </tr>\n",
       "    <tr>\n",
       "      <th>718986</th>\n",
       "      <td>352</td>\n",
       "      <td>2018-01-31 23:59:51</td>\n",
       "      <td>2018-02-01 00:05:43</td>\n",
       "      <td>483</td>\n",
       "      <td>E 12 St &amp; 3 Ave</td>\n",
       "      <td>40.732233</td>\n",
       "      <td>-73.988900</td>\n",
       "      <td>537</td>\n",
       "      <td>Lexington Ave &amp; E 24 St</td>\n",
       "      <td>40.740259</td>\n",
       "      <td>-73.984092</td>\n",
       "      <td>30690</td>\n",
       "      <td>Annual Membership</td>\n",
       "      <td>Subscriber</td>\n",
       "      <td>1998.0</td>\n",
       "      <td>1</td>\n",
       "    </tr>\n",
       "    <tr>\n",
       "      <th>718987</th>\n",
       "      <td>529</td>\n",
       "      <td>2018-01-31 23:59:52</td>\n",
       "      <td>2018-02-01 00:08:42</td>\n",
       "      <td>449</td>\n",
       "      <td>W 52 St &amp; 9 Ave</td>\n",
       "      <td>40.764618</td>\n",
       "      <td>-73.987895</td>\n",
       "      <td>490</td>\n",
       "      <td>8 Ave &amp; W 33 St</td>\n",
       "      <td>40.751551</td>\n",
       "      <td>-73.993934</td>\n",
       "      <td>16861</td>\n",
       "      <td>$25 Off Annual Membership</td>\n",
       "      <td>Subscriber</td>\n",
       "      <td>1969.0</td>\n",
       "      <td>1</td>\n",
       "    </tr>\n",
       "    <tr>\n",
       "      <th>718988</th>\n",
       "      <td>669</td>\n",
       "      <td>2018-01-31 23:59:54</td>\n",
       "      <td>2018-02-01 00:11:03</td>\n",
       "      <td>3146</td>\n",
       "      <td>E 81 St &amp; 3 Ave</td>\n",
       "      <td>40.775730</td>\n",
       "      <td>-73.956753</td>\n",
       "      <td>3141</td>\n",
       "      <td>1 Ave &amp; E 68 St</td>\n",
       "      <td>40.765005</td>\n",
       "      <td>-73.958185</td>\n",
       "      <td>26831</td>\n",
       "      <td>Annual Membership</td>\n",
       "      <td>Subscriber</td>\n",
       "      <td>1962.0</td>\n",
       "      <td>1</td>\n",
       "    </tr>\n",
       "    <tr>\n",
       "      <th>718989</th>\n",
       "      <td>206</td>\n",
       "      <td>2018-01-31 23:59:55</td>\n",
       "      <td>2018-02-01 00:03:22</td>\n",
       "      <td>310</td>\n",
       "      <td>State St &amp; Smith St</td>\n",
       "      <td>40.689269</td>\n",
       "      <td>-73.989129</td>\n",
       "      <td>3455</td>\n",
       "      <td>Schermerhorn St &amp; 3 Ave</td>\n",
       "      <td>40.686808</td>\n",
       "      <td>-73.980362</td>\n",
       "      <td>21444</td>\n",
       "      <td>Annual Membership</td>\n",
       "      <td>Subscriber</td>\n",
       "      <td>1988.0</td>\n",
       "      <td>1</td>\n",
       "    </tr>\n",
       "  </tbody>\n",
       "</table>\n",
       "</div>"
      ],
      "text/plain": [
       "        tripduration            starttime             stoptime  \\\n",
       "718985          1134  2018-01-31 23:59:40  2018-02-01 00:18:34   \n",
       "718986           352  2018-01-31 23:59:51  2018-02-01 00:05:43   \n",
       "718987           529  2018-01-31 23:59:52  2018-02-01 00:08:42   \n",
       "718988           669  2018-01-31 23:59:54  2018-02-01 00:11:03   \n",
       "718989           206  2018-01-31 23:59:55  2018-02-01 00:03:22   \n",
       "\n",
       "        start station id   start station name  start station latitude  \\\n",
       "718985              3556       24 St & 41 Ave               40.752709   \n",
       "718986               483      E 12 St & 3 Ave               40.732233   \n",
       "718987               449      W 52 St & 9 Ave               40.764618   \n",
       "718988              3146      E 81 St & 3 Ave               40.775730   \n",
       "718989               310  State St & Smith St               40.689269   \n",
       "\n",
       "        start station longitude  end station id         end station name  \\\n",
       "718985               -73.939740            3532     Ditmars Blvd & 19 St   \n",
       "718986               -73.988900             537  Lexington Ave & E 24 St   \n",
       "718987               -73.987895             490          8 Ave & W 33 St   \n",
       "718988               -73.956753            3141          1 Ave & E 68 St   \n",
       "718989               -73.989129            3455  Schermerhorn St & 3 Ave   \n",
       "\n",
       "        end station latitude  end station longitude  bikeid  \\\n",
       "718985             40.781450             -73.918330   25169   \n",
       "718986             40.740259             -73.984092   30690   \n",
       "718987             40.751551             -73.993934   16861   \n",
       "718988             40.765005             -73.958185   26831   \n",
       "718989             40.686808             -73.980362   21444   \n",
       "\n",
       "             name_localizedValue0    usertype  birth year  gender  \n",
       "718985          Annual Membership  Subscriber      1990.0       1  \n",
       "718986          Annual Membership  Subscriber      1998.0       1  \n",
       "718987  $25 Off Annual Membership  Subscriber      1969.0       1  \n",
       "718988          Annual Membership  Subscriber      1962.0       1  \n",
       "718989          Annual Membership  Subscriber      1988.0       1  "
      ]
     },
     "execution_count": 5,
     "metadata": {},
     "output_type": "execute_result"
    }
   ],
   "source": [
    "df.tail()"
   ]
  },
  {
   "cell_type": "markdown",
   "metadata": {},
   "source": [
    "# Wrangle the data"
   ]
  },
  {
   "cell_type": "code",
   "execution_count": 6,
   "metadata": {
    "collapsed": true
   },
   "outputs": [],
   "source": [
    "df['starttime'] = pd.to_datetime(df['starttime'])\n",
    "df['stoptime'] = pd.to_datetime(df['stoptime'])\n",
    "df['starthour'] = df['starttime'].dt.floor('h')\n",
    "df['stophour'] = df['stoptime'].dt.floor('h')"
   ]
  },
  {
   "cell_type": "code",
   "execution_count": 7,
   "metadata": {
    "collapsed": true
   },
   "outputs": [],
   "source": [
    "df['trajectory'] = df[['start station id', 'end station id']].apply(tuple, axis=1).astype(str)"
   ]
  },
  {
   "cell_type": "code",
   "execution_count": 8,
   "metadata": {},
   "outputs": [
    {
     "data": {
      "text/html": [
       "<div>\n",
       "<style scoped>\n",
       "    .dataframe tbody tr th:only-of-type {\n",
       "        vertical-align: middle;\n",
       "    }\n",
       "\n",
       "    .dataframe tbody tr th {\n",
       "        vertical-align: top;\n",
       "    }\n",
       "\n",
       "    .dataframe thead th {\n",
       "        text-align: right;\n",
       "    }\n",
       "</style>\n",
       "<table border=\"1\" class=\"dataframe\">\n",
       "  <thead>\n",
       "    <tr style=\"text-align: right;\">\n",
       "      <th></th>\n",
       "      <th>tripduration</th>\n",
       "      <th>starttime</th>\n",
       "      <th>stoptime</th>\n",
       "      <th>start station id</th>\n",
       "      <th>start station name</th>\n",
       "      <th>start station latitude</th>\n",
       "      <th>start station longitude</th>\n",
       "      <th>end station id</th>\n",
       "      <th>end station name</th>\n",
       "      <th>end station latitude</th>\n",
       "      <th>end station longitude</th>\n",
       "      <th>bikeid</th>\n",
       "      <th>name_localizedValue0</th>\n",
       "      <th>usertype</th>\n",
       "      <th>birth year</th>\n",
       "      <th>gender</th>\n",
       "      <th>starthour</th>\n",
       "      <th>stophour</th>\n",
       "      <th>trajectory</th>\n",
       "    </tr>\n",
       "  </thead>\n",
       "  <tbody>\n",
       "    <tr>\n",
       "      <th>0</th>\n",
       "      <td>196</td>\n",
       "      <td>2018-01-01 00:01:51</td>\n",
       "      <td>2018-01-01 00:05:07</td>\n",
       "      <td>315</td>\n",
       "      <td>South St &amp; Gouverneur Ln</td>\n",
       "      <td>40.703554</td>\n",
       "      <td>-74.006702</td>\n",
       "      <td>259</td>\n",
       "      <td>South St &amp; Whitehall St</td>\n",
       "      <td>40.701221</td>\n",
       "      <td>-74.012342</td>\n",
       "      <td>18534</td>\n",
       "      <td>Annual Membership</td>\n",
       "      <td>Subscriber</td>\n",
       "      <td>1997.0</td>\n",
       "      <td>1</td>\n",
       "      <td>2018-01-01</td>\n",
       "      <td>2018-01-01</td>\n",
       "      <td>(315, 259)</td>\n",
       "    </tr>\n",
       "    <tr>\n",
       "      <th>1</th>\n",
       "      <td>207</td>\n",
       "      <td>2018-01-01 00:02:44</td>\n",
       "      <td>2018-01-01 00:06:11</td>\n",
       "      <td>3224</td>\n",
       "      <td>W 13 St &amp; Hudson St</td>\n",
       "      <td>40.739974</td>\n",
       "      <td>-74.005139</td>\n",
       "      <td>470</td>\n",
       "      <td>W 20 St &amp; 8 Ave</td>\n",
       "      <td>40.743453</td>\n",
       "      <td>-74.000040</td>\n",
       "      <td>19651</td>\n",
       "      <td>Annual Membership</td>\n",
       "      <td>Subscriber</td>\n",
       "      <td>1978.0</td>\n",
       "      <td>1</td>\n",
       "      <td>2018-01-01</td>\n",
       "      <td>2018-01-01</td>\n",
       "      <td>(3224, 470)</td>\n",
       "    </tr>\n",
       "    <tr>\n",
       "      <th>2</th>\n",
       "      <td>613</td>\n",
       "      <td>2018-01-01 00:03:15</td>\n",
       "      <td>2018-01-01 00:13:28</td>\n",
       "      <td>386</td>\n",
       "      <td>Centre St &amp; Worth St</td>\n",
       "      <td>40.714948</td>\n",
       "      <td>-74.002345</td>\n",
       "      <td>2008</td>\n",
       "      <td>Little West St &amp; 1 Pl</td>\n",
       "      <td>40.705693</td>\n",
       "      <td>-74.016777</td>\n",
       "      <td>21678</td>\n",
       "      <td>Annual Membership</td>\n",
       "      <td>Subscriber</td>\n",
       "      <td>1982.0</td>\n",
       "      <td>1</td>\n",
       "      <td>2018-01-01</td>\n",
       "      <td>2018-01-01</td>\n",
       "      <td>(386, 2008)</td>\n",
       "    </tr>\n",
       "    <tr>\n",
       "      <th>3</th>\n",
       "      <td>375</td>\n",
       "      <td>2018-01-01 00:06:44</td>\n",
       "      <td>2018-01-01 00:12:59</td>\n",
       "      <td>466</td>\n",
       "      <td>W 25 St &amp; 6 Ave</td>\n",
       "      <td>40.743954</td>\n",
       "      <td>-73.991449</td>\n",
       "      <td>325</td>\n",
       "      <td>E 19 St &amp; 3 Ave</td>\n",
       "      <td>40.736245</td>\n",
       "      <td>-73.984738</td>\n",
       "      <td>29822</td>\n",
       "      <td>Annual Membership</td>\n",
       "      <td>Subscriber</td>\n",
       "      <td>1982.0</td>\n",
       "      <td>1</td>\n",
       "      <td>2018-01-01</td>\n",
       "      <td>2018-01-01</td>\n",
       "      <td>(466, 325)</td>\n",
       "    </tr>\n",
       "    <tr>\n",
       "      <th>4</th>\n",
       "      <td>402</td>\n",
       "      <td>2018-01-01 00:06:57</td>\n",
       "      <td>2018-01-01 00:13:40</td>\n",
       "      <td>438</td>\n",
       "      <td>St Marks Pl &amp; 1 Ave</td>\n",
       "      <td>40.727791</td>\n",
       "      <td>-73.985649</td>\n",
       "      <td>380</td>\n",
       "      <td>W 4 St &amp; 7 Ave S</td>\n",
       "      <td>40.734011</td>\n",
       "      <td>-74.002939</td>\n",
       "      <td>30722</td>\n",
       "      <td>Annual Membership</td>\n",
       "      <td>Subscriber</td>\n",
       "      <td>1989.0</td>\n",
       "      <td>1</td>\n",
       "      <td>2018-01-01</td>\n",
       "      <td>2018-01-01</td>\n",
       "      <td>(438, 380)</td>\n",
       "    </tr>\n",
       "  </tbody>\n",
       "</table>\n",
       "</div>"
      ],
      "text/plain": [
       "   tripduration           starttime            stoptime  start station id  \\\n",
       "0           196 2018-01-01 00:01:51 2018-01-01 00:05:07               315   \n",
       "1           207 2018-01-01 00:02:44 2018-01-01 00:06:11              3224   \n",
       "2           613 2018-01-01 00:03:15 2018-01-01 00:13:28               386   \n",
       "3           375 2018-01-01 00:06:44 2018-01-01 00:12:59               466   \n",
       "4           402 2018-01-01 00:06:57 2018-01-01 00:13:40               438   \n",
       "\n",
       "         start station name  start station latitude  start station longitude  \\\n",
       "0  South St & Gouverneur Ln               40.703554               -74.006702   \n",
       "1       W 13 St & Hudson St               40.739974               -74.005139   \n",
       "2      Centre St & Worth St               40.714948               -74.002345   \n",
       "3           W 25 St & 6 Ave               40.743954               -73.991449   \n",
       "4       St Marks Pl & 1 Ave               40.727791               -73.985649   \n",
       "\n",
       "   end station id         end station name  end station latitude  \\\n",
       "0             259  South St & Whitehall St             40.701221   \n",
       "1             470          W 20 St & 8 Ave             40.743453   \n",
       "2            2008    Little West St & 1 Pl             40.705693   \n",
       "3             325          E 19 St & 3 Ave             40.736245   \n",
       "4             380         W 4 St & 7 Ave S             40.734011   \n",
       "\n",
       "   end station longitude  bikeid name_localizedValue0    usertype  birth year  \\\n",
       "0             -74.012342   18534    Annual Membership  Subscriber      1997.0   \n",
       "1             -74.000040   19651    Annual Membership  Subscriber      1978.0   \n",
       "2             -74.016777   21678    Annual Membership  Subscriber      1982.0   \n",
       "3             -73.984738   29822    Annual Membership  Subscriber      1982.0   \n",
       "4             -74.002939   30722    Annual Membership  Subscriber      1989.0   \n",
       "\n",
       "   gender  starthour   stophour   trajectory  \n",
       "0       1 2018-01-01 2018-01-01   (315, 259)  \n",
       "1       1 2018-01-01 2018-01-01  (3224, 470)  \n",
       "2       1 2018-01-01 2018-01-01  (386, 2008)  \n",
       "3       1 2018-01-01 2018-01-01   (466, 325)  \n",
       "4       1 2018-01-01 2018-01-01   (438, 380)  "
      ]
     },
     "execution_count": 8,
     "metadata": {},
     "output_type": "execute_result"
    }
   ],
   "source": [
    "df.head()"
   ]
  },
  {
   "cell_type": "markdown",
   "metadata": {},
   "source": [
    "# Generate table of hourly volumes (by starttime)"
   ]
  },
  {
   "cell_type": "code",
   "execution_count": 9,
   "metadata": {
    "collapsed": true
   },
   "outputs": [],
   "source": [
    "hourly_summary = pd.DataFrame()"
   ]
  },
  {
   "cell_type": "code",
   "execution_count": 10,
   "metadata": {},
   "outputs": [],
   "source": [
    "hourly_summary = df.resample('H', on='starttime').count()[['tripduration']]\n",
    "hourly_summary.columns = ['trips']"
   ]
  },
  {
   "cell_type": "code",
   "execution_count": 11,
   "metadata": {},
   "outputs": [
    {
     "data": {
      "text/html": [
       "<div>\n",
       "<style scoped>\n",
       "    .dataframe tbody tr th:only-of-type {\n",
       "        vertical-align: middle;\n",
       "    }\n",
       "\n",
       "    .dataframe tbody tr th {\n",
       "        vertical-align: top;\n",
       "    }\n",
       "\n",
       "    .dataframe thead th {\n",
       "        text-align: right;\n",
       "    }\n",
       "</style>\n",
       "<table border=\"1\" class=\"dataframe\">\n",
       "  <thead>\n",
       "    <tr style=\"text-align: right;\">\n",
       "      <th></th>\n",
       "      <th>trips</th>\n",
       "    </tr>\n",
       "    <tr>\n",
       "      <th>starttime</th>\n",
       "      <th></th>\n",
       "    </tr>\n",
       "  </thead>\n",
       "  <tbody>\n",
       "    <tr>\n",
       "      <th>2018-01-01 00:00:00</th>\n",
       "      <td>119</td>\n",
       "    </tr>\n",
       "    <tr>\n",
       "      <th>2018-01-01 01:00:00</th>\n",
       "      <td>168</td>\n",
       "    </tr>\n",
       "    <tr>\n",
       "      <th>2018-01-01 02:00:00</th>\n",
       "      <td>98</td>\n",
       "    </tr>\n",
       "    <tr>\n",
       "      <th>2018-01-01 03:00:00</th>\n",
       "      <td>72</td>\n",
       "    </tr>\n",
       "    <tr>\n",
       "      <th>2018-01-01 04:00:00</th>\n",
       "      <td>34</td>\n",
       "    </tr>\n",
       "  </tbody>\n",
       "</table>\n",
       "</div>"
      ],
      "text/plain": [
       "                     trips\n",
       "starttime                 \n",
       "2018-01-01 00:00:00    119\n",
       "2018-01-01 01:00:00    168\n",
       "2018-01-01 02:00:00     98\n",
       "2018-01-01 03:00:00     72\n",
       "2018-01-01 04:00:00     34"
      ]
     },
     "execution_count": 11,
     "metadata": {},
     "output_type": "execute_result"
    }
   ],
   "source": [
    "hourly_summary.head()"
   ]
  },
  {
   "cell_type": "code",
   "execution_count": 12,
   "metadata": {},
   "outputs": [
    {
     "data": {
      "image/png": "[encoded data removed]",
      "text/plain": [
       "<Figure size 1296x720 with 1 Axes>"
      ]
     },
     "metadata": {},
     "output_type": "display_data"
    }
   ],
   "source": [
    "hourly_summary.plot(figsize=(18,10));"
   ]
  },
  {
   "cell_type": "code",
   "execution_count": 13,
   "metadata": {
    "collapsed": true
   },
   "outputs": [],
   "source": [
    "min_hour = hourly_summary.index.min()\n",
    "max_hour = hourly_summary.index.max()\n",
    "hour_range = pd.date_range(hourly_summary.index.min(), hourly_summary.index.max(), freq='H')"
   ]
  },
  {
   "cell_type": "markdown",
   "metadata": {},
   "source": [
    "# Generate table of hourly volumes for every origin->destination stop pair"
   ]
  },
  {
   "cell_type": "code",
   "execution_count": 14,
   "metadata": {},
   "outputs": [
    {
     "name": "stdout",
     "output_type": "stream",
     "text": [
      "CPU times: user 2.98 s, sys: 400 ms, total: 3.38 s\n",
      "Wall time: 3.39 s\n"
     ]
    }
   ],
   "source": [
    "%%time\n",
    "trip_volumes = df.groupby(by=['starthour','start station id', 'end station id', \"trajectory\"]).count()[['tripduration']]\n",
    "trip_volumes.columns = ['volume']\n",
    "trip_volumes = pd.DataFrame(trip_volumes.to_records())\n",
    "trip_volumes.index = trip_volumes['trajectory']"
   ]
  },
  {
   "cell_type": "code",
   "execution_count": 15,
   "metadata": {},
   "outputs": [
    {
     "data": {
      "text/plain": [
       "15"
      ]
     },
     "execution_count": 15,
     "metadata": {},
     "output_type": "execute_result"
    }
   ],
   "source": [
    "max(trip_volumes['volume'])"
   ]
  },
  {
   "cell_type": "code",
   "execution_count": 16,
   "metadata": {},
   "outputs": [
    {
     "data": {
      "text/html": [
       "<div>\n",
       "<style scoped>\n",
       "    .dataframe tbody tr th:only-of-type {\n",
       "        vertical-align: middle;\n",
       "    }\n",
       "\n",
       "    .dataframe tbody tr th {\n",
       "        vertical-align: top;\n",
       "    }\n",
       "\n",
       "    .dataframe thead th {\n",
       "        text-align: right;\n",
       "    }\n",
       "</style>\n",
       "<table border=\"1\" class=\"dataframe\">\n",
       "  <thead>\n",
       "    <tr style=\"text-align: right;\">\n",
       "      <th></th>\n",
       "      <th>starthour</th>\n",
       "      <th>start station id</th>\n",
       "      <th>end station id</th>\n",
       "      <th>trajectory</th>\n",
       "      <th>volume</th>\n",
       "    </tr>\n",
       "    <tr>\n",
       "      <th>trajectory</th>\n",
       "      <th></th>\n",
       "      <th></th>\n",
       "      <th></th>\n",
       "      <th></th>\n",
       "      <th></th>\n",
       "    </tr>\n",
       "  </thead>\n",
       "  <tbody>\n",
       "    <tr>\n",
       "      <th>(128, 382)</th>\n",
       "      <td>2018-01-01</td>\n",
       "      <td>128</td>\n",
       "      <td>382</td>\n",
       "      <td>(128, 382)</td>\n",
       "      <td>1</td>\n",
       "    </tr>\n",
       "    <tr>\n",
       "      <th>(146, 249)</th>\n",
       "      <td>2018-01-01</td>\n",
       "      <td>146</td>\n",
       "      <td>249</td>\n",
       "      <td>(146, 249)</td>\n",
       "      <td>1</td>\n",
       "    </tr>\n",
       "    <tr>\n",
       "      <th>(161, 439)</th>\n",
       "      <td>2018-01-01</td>\n",
       "      <td>161</td>\n",
       "      <td>439</td>\n",
       "      <td>(161, 439)</td>\n",
       "      <td>1</td>\n",
       "    </tr>\n",
       "    <tr>\n",
       "      <th>(238, 461)</th>\n",
       "      <td>2018-01-01</td>\n",
       "      <td>238</td>\n",
       "      <td>461</td>\n",
       "      <td>(238, 461)</td>\n",
       "      <td>1</td>\n",
       "    </tr>\n",
       "    <tr>\n",
       "      <th>(238, 494)</th>\n",
       "      <td>2018-01-01</td>\n",
       "      <td>238</td>\n",
       "      <td>494</td>\n",
       "      <td>(238, 494)</td>\n",
       "      <td>1</td>\n",
       "    </tr>\n",
       "  </tbody>\n",
       "</table>\n",
       "</div>"
      ],
      "text/plain": [
       "            starthour  start station id  end station id  trajectory  volume\n",
       "trajectory                                                                 \n",
       "(128, 382) 2018-01-01               128             382  (128, 382)       1\n",
       "(146, 249) 2018-01-01               146             249  (146, 249)       1\n",
       "(161, 439) 2018-01-01               161             439  (161, 439)       1\n",
       "(238, 461) 2018-01-01               238             461  (238, 461)       1\n",
       "(238, 494) 2018-01-01               238             494  (238, 494)       1"
      ]
     },
     "execution_count": 16,
     "metadata": {},
     "output_type": "execute_result"
    }
   ],
   "source": [
    "trip_volumes.head()"
   ]
  },
  {
   "cell_type": "code",
   "execution_count": 17,
   "metadata": {
    "collapsed": true
   },
   "outputs": [],
   "source": [
    "trajectories = np.unique(trip_volumes['trajectory'])"
   ]
  },
  {
   "cell_type": "code",
   "execution_count": 18,
   "metadata": {},
   "outputs": [
    {
     "data": {
      "text/plain": [
       "108324"
      ]
     },
     "execution_count": 18,
     "metadata": {},
     "output_type": "execute_result"
    }
   ],
   "source": [
    "len(trajectories)"
   ]
  },
  {
   "cell_type": "code",
   "execution_count": null,
   "metadata": {},
   "outputs": [
    {
     "data": {
      "text/plain": [
       "'(119, 119)'"
      ]
     },
     "execution_count": 19,
     "metadata": {},
     "output_type": "execute_result"
    }
   ],
   "source": [
    "trajectories[0]"
   ]
  },
  {
   "cell_type": "code",
   "execution_count": null,
   "metadata": {},
   "outputs": [
    {
     "name": "stderr",
     "output_type": "stream",
     "text": [
      "  5%|▍         | 4898/108324 [03:32<1:14:47, 23.05it/s]"
     ]
    }
   ],
   "source": [
    "results = []\n",
    "for i in tqdm(trajectories):\n",
    "    subset = trip_volumes.loc[[i]].copy()\n",
    "    hourly = subset.resample('H', on='starthour').sum()[['volume']].reindex(hour_range).fillna(0)\n",
    "    hourly['trajectory'] = i\n",
    "    hourly['volume_t-1'] = hourly['volume'].shift(1)\n",
    "    hourly['volume_t-2'] = hourly['volume'].shift(2)\n",
    "    hourly['volume_t-3'] = hourly['volume'].shift(3)\n",
    "    hourly['volume_t-4'] = hourly['volume'].shift(4)\n",
    "    hourly['volume_t-5'] = hourly['volume'].shift(5)\n",
    "    hourly['volume_t-6'] = hourly['volume'].shift(6)\n",
    "    hourly['volume_t-7'] = hourly['volume'].shift(7)\n",
    "    hourly['volume_t-8'] = hourly['volume'].shift(8)\n",
    "    hourly['volume_t-9'] = hourly['volume'].shift(9)\n",
    "    hourly['volume_t-10'] = hourly['volume'].shift(10)\n",
    "    hourly['volume_t-11'] = hourly['volume'].shift(11)\n",
    "    hourly['volume_t-12'] = hourly['volume'].shift(12)\n",
    "    hourly['volume_t-13'] = hourly['volume'].shift(13)\n",
    "    hourly['volume_t-14'] = hourly['volume'].shift(14)\n",
    "    hourly['volume_t-15'] = hourly['volume'].shift(15)\n",
    "    hourly['volume_t-16'] = hourly['volume'].shift(16)\n",
    "    hourly['volume_t-17'] = hourly['volume'].shift(17)\n",
    "    hourly['volume_t-18'] = hourly['volume'].shift(18)\n",
    "    hourly['volume_t-19'] = hourly['volume'].shift(19)\n",
    "    hourly['volume_t-20'] = hourly['volume'].shift(20)\n",
    "    hourly['volume_t-21'] = hourly['volume'].shift(21)\n",
    "    hourly['volume_t-22'] = hourly['volume'].shift(22)\n",
    "    hourly['volume_t-23'] = hourly['volume'].shift(23)\n",
    "    hourly['volume_t-24'] = hourly['volume'].shift(24)\n",
    "    hourly = hourly.dropna()\n",
    "    results.append(hourly)"
   ]
  },
  {
   "cell_type": "code",
   "execution_count": null,
   "metadata": {},
   "outputs": [],
   "source": [
    "%%time\n",
    "output = pd.concat(results)"
   ]
  },
  {
   "cell_type": "code",
   "execution_count": null,
   "metadata": {},
   "outputs": [],
   "source": [
    "output.shape"
   ]
  },
  {
   "cell_type": "code",
   "execution_count": null,
   "metadata": {},
   "outputs": [],
   "source": [
    "output.head()"
   ]
  },
  {
   "cell_type": "code",
   "execution_count": null,
   "metadata": {},
   "outputs": [],
   "source": [
    "output.tail()"
   ]
  },
  {
   "cell_type": "code",
   "execution_count": null,
   "metadata": {
    "collapsed": true
   },
   "outputs": [],
   "source": [
    "%%time\n",
    "output.to_csv(\"training_data.csv\")"
   ]
  },
  {
   "cell_type": "code",
   "execution_count": null,
   "metadata": {
    "collapsed": true
   },
   "outputs": [],
   "source": [
    "%%time\n",
    "#output.to_csv(\"hourly_trajectories.csv\")"
   ]
  },
  {
   "cell_type": "code",
   "execution_count": null,
   "metadata": {
    "collapsed": true
   },
   "outputs": [],
   "source": []
  },
  {
   "cell_type": "code",
   "execution_count": null,
   "metadata": {
    "collapsed": true
   },
   "outputs": [],
   "source": []
  },
  {
   "cell_type": "code",
   "execution_count": null,
   "metadata": {
    "collapsed": true
   },
   "outputs": [],
   "source": []
  },
  {
   "cell_type": "code",
   "execution_count": null,
   "metadata": {
    "collapsed": true
   },
   "outputs": [],
   "source": []
  },
  {
   "cell_type": "markdown",
   "metadata": {},
   "source": [
    "# Get list of Citibike stations"
   ]
  },
  {
   "cell_type": "code",
   "execution_count": 224,
   "metadata": {
    "collapsed": true
   },
   "outputs": [],
   "source": [
    "stations_url = \"https://feeds.citibikenyc.com/stations/stations.json\"\n",
    "stations_response = requests.get(stations_url)\n",
    "stations_json = stations_response.json()"
   ]
  },
  {
   "cell_type": "code",
   "execution_count": 225,
   "metadata": {
    "collapsed": true
   },
   "outputs": [],
   "source": [
    "station_ids = []\n",
    "station_lats = []\n",
    "station_lons = []\n",
    "station_names = []\n",
    "station_test = []\n",
    "station_docks = []\n",
    "\n",
    "for i in stations_json['stationBeanList']:\n",
    "    station_ids.append(i['id'])\n",
    "    station_lats.append(i['latitude'])\n",
    "    station_lons.append(i['longitude'])\n",
    "    station_names.append(i['stationName'])\n",
    "    station_test.append(i['testStation'])\n",
    "    station_docks.append(i['totalDocks'])\n",
    "    \n",
    "stations = pd.DataFrame()\n",
    "stations['id'] = station_ids\n",
    "stations['latitude'] = station_lats\n",
    "stations['longitude'] = station_lons\n",
    "stations['name'] = station_names\n",
    "stations['test'] = station_test\n",
    "stations['docks'] = station_docks\n",
    "\n",
    "stations.sort_values(by='id', inplace=True)\n",
    "stations.index=stations['id']\n",
    "del stations['id']"
   ]
  },
  {
   "cell_type": "code",
   "execution_count": 226,
   "metadata": {},
   "outputs": [
    {
     "data": {
      "text/html": [
       "<div>\n",
       "<style scoped>\n",
       "    .dataframe tbody tr th:only-of-type {\n",
       "        vertical-align: middle;\n",
       "    }\n",
       "\n",
       "    .dataframe tbody tr th {\n",
       "        vertical-align: top;\n",
       "    }\n",
       "\n",
       "    .dataframe thead th {\n",
       "        text-align: right;\n",
       "    }\n",
       "</style>\n",
       "<table border=\"1\" class=\"dataframe\">\n",
       "  <thead>\n",
       "    <tr style=\"text-align: right;\">\n",
       "      <th></th>\n",
       "      <th>latitude</th>\n",
       "      <th>longitude</th>\n",
       "      <th>name</th>\n",
       "      <th>test</th>\n",
       "      <th>docks</th>\n",
       "    </tr>\n",
       "    <tr>\n",
       "      <th>id</th>\n",
       "      <th></th>\n",
       "      <th></th>\n",
       "      <th></th>\n",
       "      <th></th>\n",
       "      <th></th>\n",
       "    </tr>\n",
       "  </thead>\n",
       "  <tbody>\n",
       "    <tr>\n",
       "      <th>72</th>\n",
       "      <td>40.767272</td>\n",
       "      <td>-73.993929</td>\n",
       "      <td>W 52 St &amp; 11 Ave</td>\n",
       "      <td>False</td>\n",
       "      <td>39</td>\n",
       "    </tr>\n",
       "    <tr>\n",
       "      <th>79</th>\n",
       "      <td>40.719116</td>\n",
       "      <td>-74.006667</td>\n",
       "      <td>Franklin St &amp; W Broadway</td>\n",
       "      <td>False</td>\n",
       "      <td>33</td>\n",
       "    </tr>\n",
       "    <tr>\n",
       "      <th>82</th>\n",
       "      <td>40.711174</td>\n",
       "      <td>-74.000165</td>\n",
       "      <td>St James Pl &amp; Pearl St</td>\n",
       "      <td>False</td>\n",
       "      <td>27</td>\n",
       "    </tr>\n",
       "    <tr>\n",
       "      <th>83</th>\n",
       "      <td>40.683826</td>\n",
       "      <td>-73.976323</td>\n",
       "      <td>Atlantic Ave &amp; Fort Greene Pl</td>\n",
       "      <td>False</td>\n",
       "      <td>62</td>\n",
       "    </tr>\n",
       "    <tr>\n",
       "      <th>119</th>\n",
       "      <td>40.696089</td>\n",
       "      <td>-73.978034</td>\n",
       "      <td>Park Ave &amp; St Edwards St</td>\n",
       "      <td>False</td>\n",
       "      <td>19</td>\n",
       "    </tr>\n",
       "  </tbody>\n",
       "</table>\n",
       "</div>"
      ],
      "text/plain": [
       "      latitude  longitude                           name   test  docks\n",
       "id                                                                    \n",
       "72   40.767272 -73.993929               W 52 St & 11 Ave  False     39\n",
       "79   40.719116 -74.006667       Franklin St & W Broadway  False     33\n",
       "82   40.711174 -74.000165         St James Pl & Pearl St  False     27\n",
       "83   40.683826 -73.976323  Atlantic Ave & Fort Greene Pl  False     62\n",
       "119  40.696089 -73.978034       Park Ave & St Edwards St  False     19"
      ]
     },
     "execution_count": 226,
     "metadata": {},
     "output_type": "execute_result"
    }
   ],
   "source": [
    "stations.head()"
   ]
  }
 ],
 "metadata": {
  "kernelspec": {
   "display_name": "Python 3",
   "language": "python",
   "name": "python3"
  },
  "language_info": {
   "codemirror_mode": {
    "name": "ipython",
    "version": 3
   },
   "file_extension": ".py",
   "mimetype": "text/x-python",
   "name": "python",
   "nbconvert_exporter": "python",
   "pygments_lexer": "ipython3",
   "version": "3.6.3"
  }
 },
 "nbformat": 4,
 "nbformat_minor": 2
}
